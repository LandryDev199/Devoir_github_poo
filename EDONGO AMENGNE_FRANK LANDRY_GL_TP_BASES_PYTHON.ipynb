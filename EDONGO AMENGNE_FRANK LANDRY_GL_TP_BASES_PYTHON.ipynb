{
 "cells": [
  {
   "cell_type": "code",
   "execution_count": null,
   "id": "41c1e7fd-a971-44eb-abfd-8c4563c4281c",
   "metadata": {},
   "outputs": [],
   "source": [
    "# EXERCICE1\n",
    "nom = input(\"Entrez votre nom: \") \n",
    "print(f\"Bienvenue, {nom} !\")"
   ]
  },
  {
   "cell_type": "code",
   "execution_count": 4,
   "id": "109af89a-b6f3-4071-b3cb-d6fb9b72f8ae",
   "metadata": {},
   "outputs": [
    {
     "name": "stdin",
     "output_type": "stream",
     "text": [
      "Entrez le premier nombre:  12\n",
      "Entrez le deuxième nombre:  34\n"
     ]
    },
    {
     "name": "stdout",
     "output_type": "stream",
     "text": [
      "La somme de 12.0 et 34.0 est: 46.0\n"
     ]
    }
   ],
   "source": [
    "# EXERCICE2:\n",
    "a = float(input(\"Entrez le premier nombre: \"))\n",
    "b = float(input(\"Entrez le deuxième nombre: \"))\n",
    "print(f\"La somme de {a} et {b} est: {a + b}\")\n"
   ]
  },
  {
   "cell_type": "code",
   "execution_count": 5,
   "id": "5812524d-2363-450e-bb28-dab6b7dc135c",
   "metadata": {},
   "outputs": [
    {
     "name": "stdin",
     "output_type": "stream",
     "text": [
      "Entrez le premier nombre:  34\n",
      "Entrez le deuxième nombre:  4\n"
     ]
    },
    {
     "name": "stdout",
     "output_type": "stream",
     "text": [
      "Le maximum de 34.0 et 4.0 est: 34.0\n"
     ]
    }
   ],
   "source": [
    "# EXERCICE3\n",
    "a = float(input(\"Entrez le premier nombre: \")) \n",
    "b = float(input(\"Entrez le deuxième nombre: \")) \n",
    "print(f\"Le maximum de {a} et {b} est: {max(a, b)}\")"
   ]
  },
  {
   "cell_type": "code",
   "execution_count": 12,
   "id": "568ec097-a769-4eea-9ad0-b39cc5128b2d",
   "metadata": {},
   "outputs": [
    {
     "name": "stdout",
     "output_type": "stream",
     "text": [
      "1\n",
      "2\n",
      "3\n",
      "4\n",
      "5\n",
      "6\n",
      "7\n",
      "8\n",
      "9\n",
      "10\n",
      "11\n",
      "12\n",
      "13\n",
      "14\n",
      "15\n",
      "16\n",
      "17\n",
      "18\n",
      "19\n",
      "20\n",
      "21\n",
      "22\n",
      "23\n",
      "24\n",
      "25\n",
      "26\n",
      "27\n",
      "28\n",
      "29\n",
      "30\n",
      "31\n",
      "32\n",
      "33\n",
      "34\n",
      "35\n",
      "36\n",
      "37\n",
      "38\n",
      "39\n",
      "40\n",
      "41\n",
      "42\n",
      "43\n",
      "44\n",
      "45\n",
      "46\n",
      "47\n",
      "48\n",
      "49\n",
      "50\n",
      "51\n",
      "52\n",
      "53\n",
      "54\n",
      "55\n",
      "56\n",
      "57\n",
      "58\n",
      "59\n",
      "60\n",
      "61\n",
      "62\n",
      "63\n",
      "64\n",
      "65\n",
      "66\n",
      "67\n",
      "68\n",
      "69\n",
      "70\n",
      "71\n",
      "72\n",
      "73\n",
      "74\n",
      "75\n",
      "76\n",
      "77\n",
      "78\n",
      "79\n",
      "80\n",
      "81\n",
      "82\n",
      "83\n",
      "84\n",
      "85\n",
      "86\n",
      "87\n",
      "88\n",
      "89\n",
      "90\n",
      "91\n",
      "92\n",
      "93\n",
      "94\n",
      "95\n",
      "96\n",
      "97\n",
      "98\n",
      "99\n",
      "100\n"
     ]
    }
   ],
   "source": [
    "# EXERCICE4\n",
    "for i in range(1, 101): \n",
    "    print(i)"
   ]
  },
  {
   "cell_type": "code",
   "execution_count": 10,
   "id": "c15a1d0e-03ae-485a-9e83-df7f36a58306",
   "metadata": {},
   "outputs": [
    {
     "name": "stdin",
     "output_type": "stream",
     "text": [
      "Entrez un nombre entier:  4\n"
     ]
    },
    {
     "name": "stdout",
     "output_type": "stream",
     "text": [
      "4 est pair\n"
     ]
    }
   ],
   "source": [
    "# EXERCICE5\n",
    "nombre = int(input(\"Entrez un nombre entier: \")) \n",
    "if nombre % 2 == 0: print(f\"{nombre} est pair\")\n",
    "else: print(f\"{nombre} est impair\")"
   ]
  },
  {
   "cell_type": "code",
   "execution_count": 11,
   "id": "a813b54d-e217-4291-822e-060795e89b69",
   "metadata": {},
   "outputs": [
    {
     "name": "stdin",
     "output_type": "stream",
     "text": [
      "Entrez votre âge:  25\n"
     ]
    },
    {
     "name": "stdout",
     "output_type": "stream",
     "text": [
      "Vous êtes Majeur !\n"
     ]
    }
   ],
   "source": [
    "# EXERCICE6\n",
    "age = int(input(\"Entrez votre âge: \")) \n",
    "if age >= 18: print(\"Vous êtes Majeur !\") \n",
    "else: print(\"Vous êtes Mineur !\")"
   ]
  },
  {
   "cell_type": "code",
   "execution_count": 13,
   "id": "1dfeaad1-4257-4eb5-8296-de384a7375fb",
   "metadata": {},
   "outputs": [
    {
     "name": "stdin",
     "output_type": "stream",
     "text": [
      "Entrez le premier nombre:  7\n",
      "Entrez le deuxième nombre:  8\n",
      "Entrez le troisième nombre:  9\n"
     ]
    },
    {
     "name": "stdout",
     "output_type": "stream",
     "text": [
      "Le maximum de 7.0, 8.0, et 9.0 est: 9.0\n"
     ]
    }
   ],
   "source": [
    "# EXERCICE7\n",
    "x = float(input(\"Entrez le premier nombre: \"))\n",
    "y = float(input(\"Entrez le deuxième nombre: \")) \n",
    "z = float(input(\"Entrez le troisième nombre: \"))\n",
    "print(f\"Le maximum de {x}, {y}, et {z} est: {max(x, y, z)}\")"
   ]
  },
  {
   "cell_type": "code",
   "execution_count": 14,
   "id": "02650604-e9d2-4fe2-8ceb-9cb48388afff",
   "metadata": {},
   "outputs": [
    {
     "name": "stdin",
     "output_type": "stream",
     "text": [
      "Entrez un nombre entier:  6\n"
     ]
    },
    {
     "name": "stdout",
     "output_type": "stream",
     "text": [
      "La somme des nombres de 1 à 6 est: 21\n"
     ]
    }
   ],
   "source": [
    "# EXERCICE8\n",
    "n = int(input(\"Entrez un nombre entier: \")) \n",
    "somme = sum(range(1, n + 1)) \n",
    "print(f\"La somme des nombres de 1 à {n} est: {somme}\")"
   ]
  },
  {
   "cell_type": "code",
   "execution_count": 19,
   "id": "176e989b-8ed6-485b-87ce-2c000488b2cc",
   "metadata": {},
   "outputs": [
    {
     "name": "stdin",
     "output_type": "stream",
     "text": [
      "Entrez un nombre entier:  7\n"
     ]
    },
    {
     "name": "stdout",
     "output_type": "stream",
     "text": [
      "7! = 5040\n"
     ]
    }
   ],
   "source": [
    "# EXERCICE9\n",
    "n = int(input(\"Entrez un nombre entier: \")) \n",
    "factorielle = 1 \n",
    "for i in range(1, n + 1): factorielle *= i \n",
    "print(f\"{n}! = {factorielle}\")"
   ]
  },
  {
   "cell_type": "code",
   "execution_count": 20,
   "id": "c5292a6b-c7bb-4084-97be-08cee39f7e7e",
   "metadata": {},
   "outputs": [
    {
     "name": "stdin",
     "output_type": "stream",
     "text": [
      "Entrez le rayon du cercle:  5\n"
     ]
    },
    {
     "name": "stdout",
     "output_type": "stream",
     "text": [
      "La surface du cercle est: 78.53981633974483\n",
      "Le périmètre du cercle est: 31.41592653589793\n"
     ]
    }
   ],
   "source": [
    "# EXERCICE10\n",
    "import math\n",
    "\n",
    "rayon = float(input(\"Entrez le rayon du cercle: \"))\n",
    "surface = math.pi * rayon ** 2\n",
    "perimetre = 2 * math.pi * rayon\n",
    "print(f\"La surface du cercle est: {surface}\")\n",
    "print(f\"Le périmètre du cercle est: {perimetre}\")\n"
   ]
  },
  {
   "cell_type": "code",
   "execution_count": null,
   "id": "67e289a4-a7ed-416b-92e0-e1db17ac4e8e",
   "metadata": {},
   "outputs": [],
   "source": [
    "# EXERCICE11\n",
    "n = int(input(\"Entrez un nombre entier: \"))\n",
    "print(f\"Les diviseurs de {n} sont:\")\n",
    "for i in range(1, n + 1):\n",
    "    if n % i == 0:\n",
    "        print(i)\n"
   ]
  },
  {
   "cell_type": "code",
   "execution_count": null,
   "id": "60a9b767-9f10-4ac8-8641-74b508b3e4a1",
   "metadata": {},
   "outputs": [],
   "source": [
    "# EXERCICE12 \n",
    "# 1)\n",
    "n = int(input(\"Entrez un nombre entier: \"))\n",
    "print(f\"Table de multiplication de {n}:\")\n",
    "for i in range(1, 11):\n",
    "    print(f\"{n} x {i} = {n * i}\")\n"
   ]
  },
  {
   "cell_type": "code",
   "execution_count": 1,
   "id": "324db650-658d-453c-b297-2cdb0233bf7f",
   "metadata": {},
   "outputs": [
    {
     "name": "stdout",
     "output_type": "stream",
     "text": [
      "Table de multiplication de 1 :\n",
      "1 x 1 = 1\n",
      "1 x 2 = 2\n",
      "1 x 3 = 3\n",
      "1 x 4 = 4\n",
      "1 x 5 = 5\n",
      "1 x 6 = 6\n",
      "1 x 7 = 7\n",
      "1 x 8 = 8\n",
      "1 x 9 = 9\n",
      "1 x 10 = 10\n",
      "\n",
      "Table de multiplication de 2 :\n",
      "2 x 1 = 2\n",
      "2 x 2 = 4\n",
      "2 x 3 = 6\n",
      "2 x 4 = 8\n",
      "2 x 5 = 10\n",
      "2 x 6 = 12\n",
      "2 x 7 = 14\n",
      "2 x 8 = 16\n",
      "2 x 9 = 18\n",
      "2 x 10 = 20\n",
      "\n",
      "Table de multiplication de 3 :\n",
      "3 x 1 = 3\n",
      "3 x 2 = 6\n",
      "3 x 3 = 9\n",
      "3 x 4 = 12\n",
      "3 x 5 = 15\n",
      "3 x 6 = 18\n",
      "3 x 7 = 21\n",
      "3 x 8 = 24\n",
      "3 x 9 = 27\n",
      "3 x 10 = 30\n",
      "\n",
      "Table de multiplication de 4 :\n",
      "4 x 1 = 4\n",
      "4 x 2 = 8\n",
      "4 x 3 = 12\n",
      "4 x 4 = 16\n",
      "4 x 5 = 20\n",
      "4 x 6 = 24\n",
      "4 x 7 = 28\n",
      "4 x 8 = 32\n",
      "4 x 9 = 36\n",
      "4 x 10 = 40\n",
      "\n",
      "Table de multiplication de 5 :\n",
      "5 x 1 = 5\n",
      "5 x 2 = 10\n",
      "5 x 3 = 15\n",
      "5 x 4 = 20\n",
      "5 x 5 = 25\n",
      "5 x 6 = 30\n",
      "5 x 7 = 35\n",
      "5 x 8 = 40\n",
      "5 x 9 = 45\n",
      "5 x 10 = 50\n",
      "\n",
      "Table de multiplication de 6 :\n",
      "6 x 1 = 6\n",
      "6 x 2 = 12\n",
      "6 x 3 = 18\n",
      "6 x 4 = 24\n",
      "6 x 5 = 30\n",
      "6 x 6 = 36\n",
      "6 x 7 = 42\n",
      "6 x 8 = 48\n",
      "6 x 9 = 54\n",
      "6 x 10 = 60\n",
      "\n",
      "Table de multiplication de 7 :\n",
      "7 x 1 = 7\n",
      "7 x 2 = 14\n",
      "7 x 3 = 21\n",
      "7 x 4 = 28\n",
      "7 x 5 = 35\n",
      "7 x 6 = 42\n",
      "7 x 7 = 49\n",
      "7 x 8 = 56\n",
      "7 x 9 = 63\n",
      "7 x 10 = 70\n",
      "\n",
      "Table de multiplication de 8 :\n",
      "8 x 1 = 8\n",
      "8 x 2 = 16\n",
      "8 x 3 = 24\n",
      "8 x 4 = 32\n",
      "8 x 5 = 40\n",
      "8 x 6 = 48\n",
      "8 x 7 = 56\n",
      "8 x 8 = 64\n",
      "8 x 9 = 72\n",
      "8 x 10 = 80\n",
      "\n",
      "Table de multiplication de 9 :\n",
      "9 x 1 = 9\n",
      "9 x 2 = 18\n",
      "9 x 3 = 27\n",
      "9 x 4 = 36\n",
      "9 x 5 = 45\n",
      "9 x 6 = 54\n",
      "9 x 7 = 63\n",
      "9 x 8 = 72\n",
      "9 x 9 = 81\n",
      "9 x 10 = 90\n",
      "\n"
     ]
    }
   ],
   "source": [
    "# EXERCICE12 \n",
    "# 2)\n",
    "for n in range(1, 10):\n",
    "    print(f\"Table de multiplication de {n} :\")\n",
    "    for i in range(1, 11):\n",
    "        print(f\"{n} x {i} = {n * i}\")\n",
    "    print()  # Pour séparer les tables\n",
    "\n"
   ]
  },
  {
   "cell_type": "code",
   "execution_count": 2,
   "id": "89086236-5bc9-443e-a405-90f464f89f7f",
   "metadata": {},
   "outputs": [
    {
     "name": "stdin",
     "output_type": "stream",
     "text": [
      "Veuillez saisir le premier nombre :  4\n",
      "Veuillez saisir le deuxième nombre :  5\n"
     ]
    },
    {
     "name": "stdout",
     "output_type": "stream",
     "text": [
      "Le quotient de 4 divisé par 5 est 0, et le reste est 4.\n"
     ]
    }
   ],
   "source": [
    "# EXERCICE13\n",
    "a = int(input(\"Veuillez saisir le premier nombre : \"))\n",
    "b = int(input(\"Veuillez saisir le deuxième nombre : \"))\n",
    "quotient = a // b\n",
    "reste = a % b\n",
    "print(f\"Le quotient de {a} divisé par {b} est {quotient}, et le reste est {reste}.\")\n"
   ]
  },
  {
   "cell_type": "code",
   "execution_count": 3,
   "id": "f169d51f-9971-4872-b004-5ac689ea8d34",
   "metadata": {},
   "outputs": [
    {
     "name": "stdin",
     "output_type": "stream",
     "text": [
      "Veuillez saisir un nombre entier :  3\n"
     ]
    },
    {
     "name": "stdout",
     "output_type": "stream",
     "text": [
      "Le nombre 3 n'est pas un carré parfait.\n"
     ]
    }
   ],
   "source": [
    "# EXERCICE14\n",
    "import math\n",
    "n = int(input(\"Veuillez saisir un nombre entier : \"))\n",
    "racine = math.isqrt(n)\n",
    "if racine * racine == n:\n",
    "    print(f\"Le nombre {n} est un carré parfait.\")\n",
    "else:\n",
    "    print(f\"Le nombre {n} n'est pas un carré parfait.\")\n"
   ]
  },
  {
   "cell_type": "code",
   "execution_count": 4,
   "id": "6fe5fae5-9c48-4228-9fb3-3d9fb5394238",
   "metadata": {},
   "outputs": [
    {
     "name": "stdin",
     "output_type": "stream",
     "text": [
      "Veuillez saisir un nombre entier :  4\n"
     ]
    },
    {
     "name": "stdout",
     "output_type": "stream",
     "text": [
      "Le nombre 4 n'est pas premier.\n"
     ]
    }
   ],
   "source": [
    "# EXERCICE15\n",
    "n = int(input(\"Veuillez saisir un nombre entier : \"))\n",
    "\n",
    "if n > 1:\n",
    "    for i in range(2, int(n ** 0.5) + 1):\n",
    "        if n % i == 0:\n",
    "            print(f\"Le nombre {n} n'est pas premier.\")\n",
    "            break\n",
    "    else:\n",
    "        print(f\"Le nombre {n} est premier.\")\n",
    "else:\n",
    "    print(f\"Le nombre {n} n'est pas premier.\")\n"
   ]
  },
  {
   "cell_type": "code",
   "execution_count": 7,
   "id": "ed10a809-7495-4b99-9985-e7807d7c1e20",
   "metadata": {},
   "outputs": [
    {
     "name": "stdin",
     "output_type": "stream",
     "text": [
      "Veuillez saisir une chaîne de caractères :  BONJOUR\n"
     ]
    },
    {
     "name": "stdout",
     "output_type": "stream",
     "text": [
      "B\n",
      "O\n",
      "N\n",
      "J\n",
      "O\n",
      "U\n",
      "R\n"
     ]
    }
   ],
   "source": [
    "# EXERCICE16\n",
    "chaine = input(\"Veuillez saisir une chaîne de caractères : \")\n",
    "for caractere in chaine:\n",
    "    print(caractere)\n"
   ]
  },
  {
   "cell_type": "code",
   "execution_count": 8,
   "id": "ade80b70-9d59-4d65-955b-9a67d3e64639",
   "metadata": {},
   "outputs": [
    {
     "name": "stdin",
     "output_type": "stream",
     "text": [
      "Veuillez saisir une chaîne de caractères :  BONJOUR\n"
     ]
    },
    {
     "name": "stdout",
     "output_type": "stream",
     "text": [
      "Le caractère 'B' apparaît 1 fois.\n",
      "Le caractère 'O' apparaît 2 fois.\n",
      "Le caractère 'N' apparaît 1 fois.\n",
      "Le caractère 'J' apparaît 1 fois.\n",
      "Le caractère 'U' apparaît 1 fois.\n",
      "Le caractère 'R' apparaît 1 fois.\n"
     ]
    }
   ],
   "source": [
    "# EXERCICE17\n",
    "chaine = input(\"Veuillez saisir une chaîne de caractères : \")\n",
    "occurrences = {}\n",
    "\n",
    "for caractere in chaine:\n",
    "    if caractere in occurrences:\n",
    "        occurrences[caractere] += 1\n",
    "    else:\n",
    "        occurrences[caractere] = 1\n",
    "\n",
    "for caractere, count in occurrences.items():\n",
    "    print(f\"Le caractère '{caractere}' apparaît {count} fois.\")\n"
   ]
  },
  {
   "cell_type": "code",
   "execution_count": 9,
   "id": "953e590e-1016-43b4-9579-cd3fecc96223",
   "metadata": {},
   "outputs": [
    {
     "name": "stdin",
     "output_type": "stream",
     "text": [
      "Veuillez saisir une chaîne de caractères :  BONJOUR\n"
     ]
    },
    {
     "name": "stdout",
     "output_type": "stream",
     "text": [
      "La lettre 'a' ne se trouve pas dans la chaîne.\n"
     ]
    }
   ],
   "source": [
    "# EXERCICE18\n",
    "chaine = input(\"Veuillez saisir une chaîne de caractères : \")\n",
    "positions = [index for index, char in enumerate(chaine) if char == 'a']\n",
    "\n",
    "if positions:\n",
    "    for pos in positions:\n",
    "        print(f\"La lettre 'a' se trouve à la position : {pos}\")\n",
    "else:\n",
    "    print(\"La lettre 'a' ne se trouve pas dans la chaîne.\")\n"
   ]
  },
  {
   "cell_type": "code",
   "execution_count": 10,
   "id": "b11eb4e2-de63-4fa4-82c7-f4b564424497",
   "metadata": {},
   "outputs": [
    {
     "name": "stdout",
     "output_type": "stream",
     "text": [
      "La chaîne 'laptop' a une longueur de 6 caractères.\n",
      "La chaîne 'iphone' a une longueur de 6 caractères.\n",
      "La chaîne 'tablet' a une longueur de 6 caractères.\n"
     ]
    }
   ],
   "source": [
    "# EXERCICE19\n",
    "liste = [\"laptop\", \"iphone\", \"tablet\"]\n",
    "for item in liste:\n",
    "    print(f\"La chaîne '{item}' a une longueur de {len(item)} caractères.\")\n"
   ]
  },
  {
   "cell_type": "code",
   "execution_count": 11,
   "id": "cba3bbd2-2223-41a1-9f7e-90daabffbd67",
   "metadata": {},
   "outputs": [
    {
     "name": "stdin",
     "output_type": "stream",
     "text": [
      "Veuillez saisir une chaîne de caractères :  BONSOIR\n"
     ]
    },
    {
     "name": "stdout",
     "output_type": "stream",
     "text": [
      "La chaîne modifiée est : RONSOIB\n"
     ]
    }
   ],
   "source": [
    "# EXERCICE20\n",
    "chaine = input(\"Veuillez saisir une chaîne de caractères : \")\n",
    "\n",
    "if len(chaine) > 1:\n",
    "    chaine = chaine[-1] + chaine[1:-1] + chaine[0]\n",
    "\n",
    "print(f\"La chaîne modifiée est : {chaine}\")\n"
   ]
  },
  {
   "cell_type": "code",
   "execution_count": 12,
   "id": "3921c773-9711-4198-9762-aa5863222a45",
   "metadata": {},
   "outputs": [
    {
     "name": "stdin",
     "output_type": "stream",
     "text": [
      "Veuillez saisir une chaîne de caractères :  SOUKI\n"
     ]
    },
    {
     "name": "stdout",
     "output_type": "stream",
     "text": [
      "La chaîne 'SOUKI' possède 3 voyelles.\n"
     ]
    }
   ],
   "source": [
    "# EXERCICE21\n",
    "chaine = input(\"Veuillez saisir une chaîne de caractères : \")\n",
    "voyelles = 'aeiouyAEIOUY'\n",
    "compte_voyelles = sum(1 for char in chaine if char in voyelles)\n",
    "\n",
    "print(f\"La chaîne '{chaine}' possède {compte_voyelles} voyelles.\")\n"
   ]
  },
  {
   "cell_type": "code",
   "execution_count": 13,
   "id": "c6398551-25a4-41fc-a5df-24698e898e6c",
   "metadata": {},
   "outputs": [
    {
     "name": "stdin",
     "output_type": "stream",
     "text": [
      "Veuillez saisir un texte :  BONSOIR MON PETIT\n"
     ]
    },
    {
     "name": "stdout",
     "output_type": "stream",
     "text": [
      "Le premier mot du texte est : BONSOIR\n"
     ]
    }
   ],
   "source": [
    "# EXERCICE22\n",
    "texte = input(\"Veuillez saisir un texte : \")\n",
    "premier_mot = texte.split()[0]\n",
    "\n",
    "print(f\"Le premier mot du texte est : {premier_mot}\")\n"
   ]
  },
  {
   "cell_type": "code",
   "execution_count": 15,
   "id": "9e87999a-1a40-469d-8d29-dbf2c1007e4f",
   "metadata": {},
   "outputs": [
    {
     "name": "stdin",
     "output_type": "stream",
     "text": [
      "Veuillez saisir le nom d'un fichier :  TXT.doc\n"
     ]
    },
    {
     "name": "stdout",
     "output_type": "stream",
     "text": [
      "L'extension du fichier est : .doc\n"
     ]
    }
   ],
   "source": [
    "# EXERCICE23\n",
    "fichier = input(\"Veuillez saisir le nom d'un fichier : \")\n",
    "extension = fichier.split('.')[-1]\n",
    "\n",
    "print(f\"L'extension du fichier est : .{extension}\")\n"
   ]
  },
  {
   "cell_type": "code",
   "execution_count": 16,
   "id": "e68839df-9f55-46ee-8e00-9674749c5cda",
   "metadata": {},
   "outputs": [
    {
     "name": "stdin",
     "output_type": "stream",
     "text": [
      "Veuillez saisir un mot :  LANDRY\n"
     ]
    },
    {
     "name": "stdout",
     "output_type": "stream",
     "text": [
      "Le mot 'LANDRY' n'est pas un palindrome.\n"
     ]
    }
   ],
   "source": [
    "# EXERCICE24\n",
    "mot = input(\"Veuillez saisir un mot : \")\n",
    "if mot == mot[::-1]:\n",
    "    print(f\"Le mot '{mot}' est un palindrome.\")\n",
    "else:\n",
    "    print(f\"Le mot '{mot}' n'est pas un palindrome.\")\n"
   ]
  },
  {
   "cell_type": "code",
   "execution_count": 17,
   "id": "3d9162b2-206d-46ed-bf64-7558b3cbfc94",
   "metadata": {},
   "outputs": [
    {
     "name": "stdin",
     "output_type": "stream",
     "text": [
      "Veuillez saisir un mot :  BOUSSAR\n"
     ]
    },
    {
     "name": "stdout",
     "output_type": "stream",
     "text": [
      "L'inverse du mot 'BOUSSAR' est 'RASSUOB'.\n"
     ]
    }
   ],
   "source": [
    "# EXERCICE25\n",
    "mot = input(\"Veuillez saisir un mot : \")\n",
    "inverse = mot[::-1]\n",
    "\n",
    "print(f\"L'inverse du mot '{mot}' est '{inverse}'.\")\n"
   ]
  },
  {
   "cell_type": "code",
   "execution_count": 18,
   "id": "8b195a4a-b948-46ff-a671-f3b281ba428e",
   "metadata": {},
   "outputs": [
    {
     "name": "stdin",
     "output_type": "stream",
     "text": [
      "Veuillez saisir un texte :  NJFLLDLOD\n"
     ]
    },
    {
     "name": "stdout",
     "output_type": "stream",
     "text": [
      "Les mots commençant par 'a' sont : []\n"
     ]
    }
   ],
   "source": [
    "# EXERCICE26\n",
    "texte = input(\"Veuillez saisir un texte : \")\n",
    "mots = texte.split()\n",
    "mots_avec_a = [mot for mot in mots if mot.lower().startswith('a')]\n",
    "print(\"Les mots commençant par 'a' sont :\", mots_avec_a)\n"
   ]
  },
  {
   "cell_type": "code",
   "execution_count": 19,
   "id": "bac64c38-c704-415d-b599-b9626130693e",
   "metadata": {},
   "outputs": [
    {
     "name": "stdout",
     "output_type": "stream",
     "text": [
      "La somme des éléments est : 10\n",
      "Le produit des éléments est : 24\n"
     ]
    }
   ],
   "source": [
    "# EXERCICE27\n",
    "def somme_liste(lst):\n",
    "    return sum(lst)\n",
    "\n",
    "def produit_liste(lst):\n",
    "    produit = 1\n",
    "    for nombre in lst:\n",
    "        produit *= nombre\n",
    "    return produit\n",
    "\n",
    "nombres = [1, 2, 3, 4]\n",
    "print(f\"La somme des éléments est : {somme_liste(nombres)}\")\n",
    "print(f\"Le produit des éléments est : {produit_liste(nombres)}\")\n"
   ]
  },
  {
   "cell_type": "code",
   "execution_count": 20,
   "id": "d555ee9b-bc06-45a4-97bf-c0901775147f",
   "metadata": {},
   "outputs": [
    {
     "name": "stdout",
     "output_type": "stream",
     "text": [
      "La liste est vide : True\n",
      "La chaîne est vide : True\n"
     ]
    }
   ],
   "source": [
    "# EXERCICE28\n",
    "def est_vide(liste_ou_chaine):\n",
    "    return len(liste_ou_chaine) == 0\n",
    "\n",
    "liste = []\n",
    "chaine = \"\"\n",
    "print(\"La liste est vide :\", est_vide(liste))\n",
    "print(\"La chaîne est vide :\", est_vide(chaine))\n"
   ]
  },
  {
   "cell_type": "code",
   "execution_count": 21,
   "id": "7d5db7a9-a91d-4e17-ad98-6b3652c91033",
   "metadata": {},
   "outputs": [
    {
     "name": "stdout",
     "output_type": "stream",
     "text": [
      "Liste sans doublons : [1, 2, 3, 4, 5]\n"
     ]
    }
   ],
   "source": [
    "# EXERCICE29\n",
    "liste = [1, 2, 2, 3, 4, 4, 5]\n",
    "liste_sans_doublons = list(set(liste))\n",
    "print(\"Liste sans doublons :\", liste_sans_doublons)\n"
   ]
  },
  {
   "cell_type": "code",
   "execution_count": 22,
   "id": "5e30607c-349f-4dd5-b192-f607c3c436d1",
   "metadata": {},
   "outputs": [
    {
     "name": "stdout",
     "output_type": "stream",
     "text": [
      "Les deux listes ont une valeur commune : True\n"
     ]
    }
   ],
   "source": [
    "# EXERCICE30\n",
    "def ont_valeur_commune(liste1, liste2):\n",
    "    return any(valeur in liste1 for valeur in liste2)\n",
    "\n",
    "liste1 = [1, 2, 3, 4]\n",
    "liste2 = [3, 5, 6, 7]\n",
    "print(\"Les deux listes ont une valeur commune :\", ont_valeur_commune(liste1, liste2))\n"
   ]
  },
  {
   "cell_type": "code",
   "execution_count": 23,
   "id": "eb2b9990-cc7a-45d8-adeb-01738fa72429",
   "metadata": {},
   "outputs": [
    {
     "name": "stdout",
     "output_type": "stream",
     "text": [
      "Nombres pairs : [2, 4, 6, 8, 10]\n",
      "Nombres impairs : [1, 3, 5, 7, 9]\n"
     ]
    }
   ],
   "source": [
    "# EXERCICE31\n",
    "nombres = [1, 2, 3, 4, 5, 6, 7, 8, 9, 10]\n",
    "pairs = [num for num in nombres if num % 2 == 0]\n",
    "impairs = [num for num in nombres if num % 2 != 0]\n",
    "\n",
    "print(\"Nombres pairs :\", pairs)\n",
    "print(\"Nombres impairs :\", impairs)\n"
   ]
  },
  {
   "cell_type": "code",
   "execution_count": 24,
   "id": "48877d92-b36c-4ece-a568-15cf6ed8952d",
   "metadata": {},
   "outputs": [
    {
     "name": "stdout",
     "output_type": "stream",
     "text": [
      "Toutes les permutations de la liste sont :\n",
      "(1, 2, 3)\n",
      "(1, 3, 2)\n",
      "(2, 1, 3)\n",
      "(2, 3, 1)\n",
      "(3, 1, 2)\n",
      "(3, 2, 1)\n"
     ]
    }
   ],
   "source": [
    "# EXERCICE32\n",
    "from itertools import permutations\n",
    "\n",
    "liste = [1, 2, 3]\n",
    "permutations_liste = list(permutations(liste))\n",
    "\n",
    "print(\"Toutes les permutations de la liste sont :\")\n",
    "for p in permutations_liste:\n",
    "    print(p)\n"
   ]
  },
  {
   "cell_type": "code",
   "execution_count": 25,
   "id": "adca14e0-9a85-4fe7-adfc-740cdb6146a4",
   "metadata": {},
   "outputs": [
    {
     "name": "stdin",
     "output_type": "stream",
     "text": [
      "Veuillez saisir une chaîne de caractères :  CHIKFO\n"
     ]
    },
    {
     "name": "stdout",
     "output_type": "stream",
     "text": [
      "Les caractères d'indice pair sont : CIF\n"
     ]
    }
   ],
   "source": [
    "# EXERCICE 33\n",
    "chaine = input(\"Veuillez saisir une chaîne de caractères : \")\n",
    "caracteres_pairs = chaine[::2]\n",
    "\n",
    "print(\"Les caractères d'indice pair sont :\", caracteres_pairs)\n"
   ]
  },
  {
   "cell_type": "code",
   "execution_count": 26,
   "id": "37f1838b-9d00-47ce-868d-bc7510b142b8",
   "metadata": {},
   "outputs": [
    {
     "name": "stdout",
     "output_type": "stream",
     "text": [
      "Les notes au-dessus de 10 sont : [12, 14, 11, 18, 13, 10, 15, 14, 16]\n"
     ]
    }
   ],
   "source": [
    "# EXERCICE 34\n",
    "notes = [12, 4, 14, 11, 18, 13, 7, 10, 5, 9, 15, 8, 14, 16]\n",
    "notes_above_10 = [note for note in notes if note >= 10]\n",
    "\n",
    "print(\"Les notes au-dessus de 10 sont :\", notes_above_10)\n"
   ]
  },
  {
   "cell_type": "code",
   "execution_count": 27,
   "id": "c9981d3e-6c5a-4b61-92bf-b92fac522a40",
   "metadata": {},
   "outputs": [
    {
     "name": "stdin",
     "output_type": "stream",
     "text": [
      "Veuillez saisir une URL :  https://hostinger.com\n"
     ]
    },
    {
     "name": "stdout",
     "output_type": "stream",
     "text": [
      "Le lien est : <a href='https://hostinger.com'>https://hostinger.com</a>\n"
     ]
    }
   ],
   "source": [
    "# EXERCICE 35\n",
    "url = input(\"Veuillez saisir une URL : \")\n",
    "lien = f\"<a href='{url}'>{url}</a>\"\n",
    "\n",
    "print(\"Le lien est :\", lien)\n"
   ]
  },
  {
   "cell_type": "code",
   "execution_count": 28,
   "id": "6de53139-5b8e-46f3-9004-c8c1d2beea92",
   "metadata": {},
   "outputs": [
    {
     "name": "stdin",
     "output_type": "stream",
     "text": [
      "Veuillez saisir une chaîne de caractères :  KFJDIODOI\n"
     ]
    },
    {
     "name": "stdout",
     "output_type": "stream",
     "text": [
      "La chaîne sans espaces multiples est : KFJDIODOI\n"
     ]
    }
   ],
   "source": [
    "# EXERCICE 36\n",
    "chaine = input(\"Veuillez saisir une chaîne de caractères : \")\n",
    "chaine_sans_espaces_multiples = ' '.join(chaine.split())\n",
    "\n",
    "print(\"La chaîne sans espaces multiples est :\", chaine_sans_espaces_multiples)\n"
   ]
  },
  {
   "cell_type": "code",
   "execution_count": 29,
   "id": "1efde1ec-5544-4cee-9923-177e9b05ccfa",
   "metadata": {},
   "outputs": [
    {
     "name": "stdout",
     "output_type": "stream",
     "text": [
      "Les mots communs aux deux chaînes sont : {'programmation', 'est', 'python'}\n"
     ]
    }
   ],
   "source": [
    "# EXERCICE 37\n",
    "s1 = \"Python est un langage de programmation merveilleux\"\n",
    "s2 = \"Programmation en Python est amusante\"\n",
    "\n",
    "mots_communs = set(s1.lower().split()).intersection(set(s2.lower().split()))\n",
    "\n",
    "print(\"Les mots communs aux deux chaînes sont :\", mots_communs)\n"
   ]
  },
  {
   "cell_type": "code",
   "execution_count": 31,
   "id": "00f39112-5381-42eb-bf6e-337b398d6606",
   "metadata": {},
   "outputs": [
    {
     "name": "stdin",
     "output_type": "stream",
     "text": [
      "Veuillez saisir une chaîne de caractères :  SOUKI LE NOSTALGIEN\n"
     ]
    },
    {
     "name": "stdout",
     "output_type": "stream",
     "text": [
      "Le mot le plus long est : NOSTALGIEN\n"
     ]
    }
   ],
   "source": [
    "# EXERCICE 38\n",
    "def mot_le_plus_long(chaine):\n",
    "    mots = chaine.split()\n",
    "    mot_long = max(mots, key=len)\n",
    "    return mot_long\n",
    "\n",
    "texte = input(\"Veuillez saisir une chaîne de caractères : \")\n",
    "print(\"Le mot le plus long est :\", mot_le_plus_long(texte))\n"
   ]
  },
  {
   "cell_type": "code",
   "execution_count": 32,
   "id": "20e09ab3-62c2-47fd-9348-ea364d968061",
   "metadata": {},
   "outputs": [
    {
     "name": "stdin",
     "output_type": "stream",
     "text": [
      "Veuillez saisir une chaîne de caractères :  MA MERE CHERIE BOUSSAR MADELEIN\n"
     ]
    },
    {
     "name": "stdout",
     "output_type": "stream",
     "text": [
      "Le nombre de mots dans la chaîne est : 5\n"
     ]
    }
   ],
   "source": [
    "# EXERCICE 39\n",
    "def compter_mots(chaine):\n",
    "    mots = chaine.split()\n",
    "    return len(mots)\n",
    "\n",
    "texte = input(\"Veuillez saisir une chaîne de caractères : \")\n",
    "nombre_de_mots = compter_mots(texte)\n",
    "print(f\"Le nombre de mots dans la chaîne est : {nombre_de_mots}\")\n"
   ]
  },
  {
   "cell_type": "code",
   "execution_count": 33,
   "id": "4b93e39f-0f79-4557-a0af-8ba64aec6b6b",
   "metadata": {},
   "outputs": [
    {
     "name": "stdout",
     "output_type": "stream",
     "text": [
      "La nouvelle chaîne est : programmation est un langage de Python\n"
     ]
    }
   ],
   "source": [
    "# EXERCICE 40\n",
    "def echanger_premier_dernier_mot(chaine):\n",
    "    mots = chaine.split()\n",
    "    if len(mots) > 1:\n",
    "        mots[0], mots[-1] = mots[-1], mots[0]\n",
    "    return ' '.join(mots)\n",
    "\n",
    "texte = \"Python est un langage de programmation\"\n",
    "nouvelle_chaine = echanger_premier_dernier_mot(texte)\n",
    "print(\"La nouvelle chaîne est :\", nouvelle_chaine)\n"
   ]
  },
  {
   "cell_type": "code",
   "execution_count": 34,
   "id": "bacdf11c-aa5b-4980-a547-7480c410970b",
   "metadata": {},
   "outputs": [
    {
     "name": "stdout",
     "output_type": "stream",
     "text": [
      "Nombre d'éléments divisibles par 11 : 9\n"
     ]
    }
   ],
   "source": [
    "# EXERCICE 41\n",
    "def nombreDivisibles(liste, n):\n",
    "    return len([x for x in liste if x % n == 0])\n",
    "\n",
    "liste = [11, 22, 33, 44, 55, 66, 77, 88, 99]\n",
    "n = 11\n",
    "print(f\"Nombre d'éléments divisibles par {n} :\", nombreDivisibles(liste, n))\n"
   ]
  },
  {
   "cell_type": "code",
   "execution_count": 35,
   "id": "22b25a64-7f39-4770-9410-f21bc3cc243e",
   "metadata": {},
   "outputs": [
    {
     "name": "stdout",
     "output_type": "stream",
     "text": [
      "Le nombre d'occurrences de 2 dans la liste est : 4\n"
     ]
    }
   ],
   "source": [
    "# EXERCICE 42\n",
    "def nombreOccurences(L, x):\n",
    "    compteur = 0\n",
    "    for element in L:\n",
    "        if element == x:\n",
    "            compteur += 1\n",
    "    return compteur\n",
    "\n",
    "liste = [1, 2, 3, 4, 2, 3, 4, 2, 1, 2]\n",
    "x = 2\n",
    "print(f\"Le nombre d'occurrences de {x} dans la liste est :\", nombreOccurences(liste, x))\n"
   ]
  },
  {
   "cell_type": "code",
   "execution_count": 36,
   "id": "0e917fdd-bee0-4e84-b5e8-2c0161a3f40b",
   "metadata": {},
   "outputs": [
    {
     "name": "stdout",
     "output_type": "stream",
     "text": [
      "La nouvelle chaîne est : P*y*t*h*o*n\n"
     ]
    }
   ],
   "source": [
    "# EXERCICE 43\n",
    "def InsertEtoile(s):\n",
    "    return '*'.join(s)\n",
    "\n",
    "chaine = \"Python\"\n",
    "print(\"La nouvelle chaîne est :\", InsertEtoile(chaine))\n"
   ]
  },
  {
   "cell_type": "code",
   "execution_count": 37,
   "id": "13018b43-01ba-490e-b379-f62447ac6023",
   "metadata": {},
   "outputs": [
    {
     "name": "stdout",
     "output_type": "stream",
     "text": [
      "Liste en majuscule : ['PYTHON', 'EST', 'UN', 'LANGAGE', 'DE', 'PROGRAMMATION']\n"
     ]
    }
   ],
   "source": [
    "# EXERCICE 44\n",
    "def toutEnMajuscule(L):\n",
    "    return [chaine.upper() for chaine in L]\n",
    "\n",
    "L = [\"Python\", \"est\", \"un\", \"langage\", \"de\", \"programmation\"]\n",
    "print(\"Liste en majuscule :\", toutEnMajuscule(L))\n"
   ]
  },
  {
   "cell_type": "code",
   "execution_count": 38,
   "id": "8295e541-4946-4325-b459-3b0157facb04",
   "metadata": {},
   "outputs": [
    {
     "name": "stdout",
     "output_type": "stream",
     "text": [
      "Nombre de majuscules : 2\n",
      "Nombre de minuscules : 18\n"
     ]
    }
   ],
   "source": [
    "# EXERCICE 45\n",
    "def compter_maj_min(s):\n",
    "    majuscules = sum(1 for char in s if char.isupper())\n",
    "    minuscules = sum(1 for char in s if char.islower())\n",
    "    return majuscules, minuscules\n",
    "\n",
    "chaine = \"Python est Merveilleux\"\n",
    "majuscules, minuscules = compter_maj_min(chaine)\n",
    "print(f\"Nombre de majuscules : {majuscules}\")\n",
    "print(f\"Nombre de minuscules : {minuscules}\")\n"
   ]
  },
  {
   "cell_type": "code",
   "execution_count": 39,
   "id": "b64f76c5-05b9-41e7-8c8b-a7436e66296f",
   "metadata": {},
   "outputs": [
    {
     "name": "stdout",
     "output_type": "stream",
     "text": [
      "Liste des chiffres : [1, 2, 3, 4, 5, 6]\n"
     ]
    }
   ],
   "source": [
    "# EXERCICE 46\n",
    "def liste_chiffres(n):\n",
    "    chiffres = []\n",
    "    while n > 0:\n",
    "        chiffres.insert(0, n % 10)\n",
    "        n = n // 10\n",
    "    return chiffres\n",
    "\n",
    "nombre = 123456\n",
    "print(\"Liste des chiffres :\", liste_chiffres(nombre))\n"
   ]
  },
  {
   "cell_type": "code",
   "execution_count": 40,
   "id": "d2b50a3a-4175-4181-8f7d-52f9e5407d56",
   "metadata": {},
   "outputs": [
    {
     "name": "stdout",
     "output_type": "stream",
     "text": [
      "Mots communs aux deux textes : ['python', 'est']\n"
     ]
    }
   ],
   "source": [
    "# EXERCICE 47\n",
    "def mots_communs(t1, t2):\n",
    "    mots1 = set(t1.lower().split())\n",
    "    mots2 = set(t2.lower().split())\n",
    "    return list(mots1.intersection(mots2))\n",
    "\n",
    "t1 = \"Python est un langage de programmation\"\n",
    "t2 = \"Python est orienté objet\"\n",
    "print(\"Mots communs aux deux textes :\", mots_communs(t1, t2))\n"
   ]
  },
  {
   "cell_type": "code",
   "execution_count": null,
   "id": "d831abec-98ff-4877-8170-39685ea2f6a8",
   "metadata": {},
   "outputs": [],
   "source": []
  }
 ],
 "metadata": {
  "kernelspec": {
   "display_name": "Python 3 (ipykernel)",
   "language": "python",
   "name": "python3"
  },
  "language_info": {
   "codemirror_mode": {
    "name": "ipython",
    "version": 3
   },
   "file_extension": ".py",
   "mimetype": "text/x-python",
   "name": "python",
   "nbconvert_exporter": "python",
   "pygments_lexer": "ipython3",
   "version": "3.12.7"
  }
 },
 "nbformat": 4,
 "nbformat_minor": 5
}
